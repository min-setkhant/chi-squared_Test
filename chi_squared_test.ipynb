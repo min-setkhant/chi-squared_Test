{
 "cells": [
  {
   "cell_type": "markdown",
   "id": "1f1afbce",
   "metadata": {},
   "source": [
    "## Introduction to Data Science\n"
   ]
  },
  {
   "cell_type": "markdown",
   "id": "8c45e9cb",
   "metadata": {},
   "source": [
    "***Data Mining and Discovery***\n",
    "\n",
    "**Chi-Squared test**\n",
    "\n",
    "**Hello Data**"
   ]
  },
  {
   "cell_type": "markdown",
   "id": "554a4704",
   "metadata": {},
   "source": [
    "\n",
    "\n",
    "## Why We Use the Chi-Squared Test (χ² Test) in Data Mining\n",
    "\n",
    "The **Chi-squared test** is a statistical method used when dealing with **categorical data**. It helps answer two main questions:\n",
    "\n",
    "---\n",
    "\n",
    "### 1. Association Between Two Categorical Variables\n",
    "\n",
    "* Example: In the `stent30` dataset, we might want to see if the **30-day outcome (Success/Failure)** depends on whether a **stent was used (Yes/No)**.\n",
    "* The test checks whether the difference in outcomes is **due to chance** or whether there is a **real relationship** between the variables.\n",
    "\n",
    "---\n",
    "\n",
    "### 2. Goodness-of-Fit Test\n",
    "\n",
    "* Sometimes we have **expected proportions** (e.g., 50% Male, 50% Female), but the observed data might be different (e.g., 40% Male, 60% Female).\n",
    "* The Chi-squared test tells us whether the observed difference is **statistically significant** or just **random variation**.\n",
    "\n",
    "---\n",
    "\n",
    "### 3. Independence Testing Using Contingency Tables\n",
    "\n",
    "A contingency table shows the counts for combinations of two variables. Example:\n",
    "\n",
    "|          | Success | Failure | Total |\n",
    "| -------- | ------- | ------- | ----- |\n",
    "| Stent    | 40      | 10      | 50    |\n",
    "| No Stent | 30      | 20      | 50    |\n",
    "\n",
    "The Chi-squared test checks whether the two variables (Stent and Outcome) are **independent** or **related**.\n",
    "\n",
    "---\n",
    "\n",
    "### 4. Why Not Just Look at Percentages?\n",
    "\n",
    "* Percentages might look different, but the difference could be due to **random chance**.\n",
    "* The Chi-squared formula measures how far the observed counts deviate from what we would expect if there was **no relationship**:\n",
    "\n",
    "  $$\n",
    "  χ² = \\sum \\frac{(Observed - Expected)^2}{Expected}\n",
    "  $$\n",
    "\n",
    "---\n",
    "\n",
    "### 5. Real-World Applications\n",
    "\n",
    "* **Healthcare**: Check if a treatment works better than another.\n",
    "* **Marketing**: See if buying habits depend on customer age groups.\n",
    "* **Education**: Analyze whether test results depend on teaching methods.\n",
    "\n",
    "---\n",
    "\n",
    "\n"
   ]
  },
  {
   "cell_type": "code",
   "execution_count": 9,
   "id": "3ab8245f",
   "metadata": {},
   "outputs": [],
   "source": [
    "#Setup\n",
    "# Importing Libraries\n",
    "import pandas as pd # for data manipulation and analysis\n",
    "import numpy as np # for numerical operations\n",
    "import matplotlib.pyplot as plt1    # fpr plotting graphs\n",
    "import seaborn as sns   # for data visualization\n",
    "from scipy.stats import chi2_contingency # for Chi-squared test "
   ]
  },
  {
   "cell_type": "markdown",
   "id": "b5eb2b23",
   "metadata": {},
   "source": [
    "*To day We will learn with Case Study called \"Using Stents to prevent Strokes*\n",
    "\n",
    "##Source:Chimowitz MI, Lynn MJ, Derdeyn CP, et al. 2011.##"
   ]
  },
  {
   "cell_type": "code",
   "execution_count": 2,
   "id": "f1f355b3",
   "metadata": {},
   "outputs": [
    {
     "data": {
      "application/vnd.microsoft.datawrangler.viewer.v0+json": {
       "columns": [
        {
         "name": "index",
         "rawType": "int64",
         "type": "integer"
        },
        {
         "name": "group",
         "rawType": "object",
         "type": "string"
        },
        {
         "name": "outcome",
         "rawType": "object",
         "type": "string"
        }
       ],
       "ref": "dd68c7d4-faee-406d-b4c4-8a611cc09d6b",
       "rows": [
        [
         "0",
         "treatment",
         "stroke"
        ],
        [
         "1",
         "treatment",
         "stroke"
        ],
        [
         "2",
         "treatment",
         "stroke"
        ],
        [
         "3",
         "treatment",
         "stroke"
        ],
        [
         "4",
         "treatment",
         "stroke"
        ],
        [
         "5",
         "treatment",
         "stroke"
        ],
        [
         "6",
         "treatment",
         "stroke"
        ],
        [
         "7",
         "treatment",
         "stroke"
        ],
        [
         "8",
         "treatment",
         "stroke"
        ],
        [
         "9",
         "treatment",
         "stroke"
        ]
       ],
       "shape": {
        "columns": 2,
        "rows": 10
       }
      },
      "text/html": [
       "<div>\n",
       "<style scoped>\n",
       "    .dataframe tbody tr th:only-of-type {\n",
       "        vertical-align: middle;\n",
       "    }\n",
       "\n",
       "    .dataframe tbody tr th {\n",
       "        vertical-align: top;\n",
       "    }\n",
       "\n",
       "    .dataframe thead th {\n",
       "        text-align: right;\n",
       "    }\n",
       "</style>\n",
       "<table border=\"1\" class=\"dataframe\">\n",
       "  <thead>\n",
       "    <tr style=\"text-align: right;\">\n",
       "      <th></th>\n",
       "      <th>group</th>\n",
       "      <th>outcome</th>\n",
       "    </tr>\n",
       "  </thead>\n",
       "  <tbody>\n",
       "    <tr>\n",
       "      <th>0</th>\n",
       "      <td>treatment</td>\n",
       "      <td>stroke</td>\n",
       "    </tr>\n",
       "    <tr>\n",
       "      <th>1</th>\n",
       "      <td>treatment</td>\n",
       "      <td>stroke</td>\n",
       "    </tr>\n",
       "    <tr>\n",
       "      <th>2</th>\n",
       "      <td>treatment</td>\n",
       "      <td>stroke</td>\n",
       "    </tr>\n",
       "    <tr>\n",
       "      <th>3</th>\n",
       "      <td>treatment</td>\n",
       "      <td>stroke</td>\n",
       "    </tr>\n",
       "    <tr>\n",
       "      <th>4</th>\n",
       "      <td>treatment</td>\n",
       "      <td>stroke</td>\n",
       "    </tr>\n",
       "    <tr>\n",
       "      <th>5</th>\n",
       "      <td>treatment</td>\n",
       "      <td>stroke</td>\n",
       "    </tr>\n",
       "    <tr>\n",
       "      <th>6</th>\n",
       "      <td>treatment</td>\n",
       "      <td>stroke</td>\n",
       "    </tr>\n",
       "    <tr>\n",
       "      <th>7</th>\n",
       "      <td>treatment</td>\n",
       "      <td>stroke</td>\n",
       "    </tr>\n",
       "    <tr>\n",
       "      <th>8</th>\n",
       "      <td>treatment</td>\n",
       "      <td>stroke</td>\n",
       "    </tr>\n",
       "    <tr>\n",
       "      <th>9</th>\n",
       "      <td>treatment</td>\n",
       "      <td>stroke</td>\n",
       "    </tr>\n",
       "  </tbody>\n",
       "</table>\n",
       "</div>"
      ],
      "text/plain": [
       "       group outcome\n",
       "0  treatment  stroke\n",
       "1  treatment  stroke\n",
       "2  treatment  stroke\n",
       "3  treatment  stroke\n",
       "4  treatment  stroke\n",
       "5  treatment  stroke\n",
       "6  treatment  stroke\n",
       "7  treatment  stroke\n",
       "8  treatment  stroke\n",
       "9  treatment  stroke"
      ]
     },
     "execution_count": 2,
     "metadata": {},
     "output_type": "execute_result"
    }
   ],
   "source": [
    "# Loading the dataset\n",
    "stent30 = pd.read_csv('stent30.csv')\n",
    "stent30.head(10)"
   ]
  },
  {
   "cell_type": "markdown",
   "id": "a8f6864b",
   "metadata": {},
   "source": [
    "**Treatment group (N = 224): received stent and medical management (medications, management of risk factors, lifestyle modification)**\n",
    "\n",
    "**Control group(N = 227): same medical management as the treatment group, but no stent**"
   ]
  },
  {
   "cell_type": "markdown",
   "id": "ad2f9681",
   "metadata": {},
   "source": [
    "**What are the Hypothesis**\n",
    "\n",
    "Stents alone prevent strokes\n",
    "\n",
    "Medical management alone prevents strokes\n",
    "\n",
    "Both stents and medical management prevent strokes\n"
   ]
  },
  {
   "cell_type": "code",
   "execution_count": null,
   "id": "841bdcc5",
   "metadata": {},
   "outputs": [
    {
     "name": "stdout",
     "output_type": "stream",
     "text": [
      "ERROR! Session/line number was not unique in database. History logging moved to new session 47\n"
     ]
    },
    {
     "data": {
      "application/vnd.microsoft.datawrangler.viewer.v0+json": {
       "columns": [
        {
         "name": "group",
         "rawType": "object",
         "type": "string"
        },
        {
         "name": "no event",
         "rawType": "int64",
         "type": "integer"
        },
        {
         "name": "stroke",
         "rawType": "int64",
         "type": "integer"
        }
       ],
       "ref": "c29a89c4-2674-4ad7-b1e2-79c38690d1fd",
       "rows": [
        [
         "control",
         "214",
         "13"
        ],
        [
         "treatment",
         "191",
         "33"
        ]
       ],
       "shape": {
        "columns": 2,
        "rows": 2
       }
      },
      "text/html": [
       "<div>\n",
       "<style scoped>\n",
       "    .dataframe tbody tr th:only-of-type {\n",
       "        vertical-align: middle;\n",
       "    }\n",
       "\n",
       "    .dataframe tbody tr th {\n",
       "        vertical-align: top;\n",
       "    }\n",
       "\n",
       "    .dataframe thead th {\n",
       "        text-align: right;\n",
       "    }\n",
       "</style>\n",
       "<table border=\"1\" class=\"dataframe\">\n",
       "  <thead>\n",
       "    <tr style=\"text-align: right;\">\n",
       "      <th>outcome</th>\n",
       "      <th>no event</th>\n",
       "      <th>stroke</th>\n",
       "    </tr>\n",
       "    <tr>\n",
       "      <th>group</th>\n",
       "      <th></th>\n",
       "      <th></th>\n",
       "    </tr>\n",
       "  </thead>\n",
       "  <tbody>\n",
       "    <tr>\n",
       "      <th>control</th>\n",
       "      <td>214</td>\n",
       "      <td>13</td>\n",
       "    </tr>\n",
       "    <tr>\n",
       "      <th>treatment</th>\n",
       "      <td>191</td>\n",
       "      <td>33</td>\n",
       "    </tr>\n",
       "  </tbody>\n",
       "</table>\n",
       "</div>"
      ],
      "text/plain": [
       "outcome    no event  stroke\n",
       "group                      \n",
       "control         214      13\n",
       "treatment       191      33"
      ]
     },
     "execution_count": 7,
     "metadata": {},
     "output_type": "execute_result"
    }
   ],
   "source": [
    "#let's create a frequency table for the \"Group\" and \"Outcome\" columns\n",
    "frequency_table = pd.crosstab(index = stent30['group'], columns = stent30['outcome'])\n",
    "frequency_table"
   ]
  },
  {
   "cell_type": "markdown",
   "id": "3f711433",
   "metadata": {},
   "source": [
    "**Chi-squared Test**"
   ]
  },
  {
   "cell_type": "markdown",
   "id": "9dfedeed",
   "metadata": {},
   "source": [
    "We need to test the relationship statically"
   ]
  },
  {
   "cell_type": "code",
   "execution_count": 8,
   "id": "e5f410d8",
   "metadata": {},
   "outputs": [
    {
     "name": "stdout",
     "output_type": "stream",
     "text": [
      "Chi-squared: 9.023331421738945\n",
      "P-value: 0.0026655513536403995\n",
      "Degrees of freedom: 1\n",
      "Expected frequencies:\n",
      "[[203.84700665  23.15299335]\n",
      " [201.15299335  22.84700665]]\n"
     ]
    }
   ],
   "source": [
    "# Performing Chi-Squared Test\n",
    "chi2, p, dof, expected = chi2_contingency(frequency_table)\n",
    "print(f\"Chi-squared: {chi2}\")\n",
    "print(f\"P-value: {p}\")\n",
    "print(f\"Degrees of freedom: {dof}\")\n",
    "print(\"Expected frequencies:\")\n",
    "print(expected)             "
   ]
  },
  {
   "cell_type": "markdown",
   "id": "9dfac022",
   "metadata": {},
   "source": [
    "**Conclsions**\n",
    "\n",
    "There was a >2.5x increase in strokes from the treatment!\n",
    "\n",
    "There is a statistical difference between no event and strokes when comparing control and treatment groups\n",
    "\n"
   ]
  }
 ],
 "metadata": {
  "kernelspec": {
   "display_name": "base",
   "language": "python",
   "name": "python3"
  },
  "language_info": {
   "codemirror_mode": {
    "name": "ipython",
    "version": 3
   },
   "file_extension": ".py",
   "mimetype": "text/x-python",
   "name": "python",
   "nbconvert_exporter": "python",
   "pygments_lexer": "ipython3",
   "version": "3.13.5"
  }
 },
 "nbformat": 4,
 "nbformat_minor": 5
}
